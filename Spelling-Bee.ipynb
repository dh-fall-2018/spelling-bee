{
 "cells": [
  {
   "cell_type": "code",
   "execution_count": 11,
   "metadata": {},
   "outputs": [],
   "source": [
    "with open(\"spelling_bee_lexicon.txt\") as f:\n",
    "    sb_words = f.read()\n",
    "sb_list = sb_words.lower().split(\"\\r\\n\")"
   ]
  },
  {
   "cell_type": "code",
   "execution_count": 12,
   "metadata": {},
   "outputs": [],
   "source": [
    "def score_matches(match_list, all_letters):\n",
    "    score = 0\n",
    "    for m in match_list:\n",
    "        all_in = True\n",
    "        for i in all_letters:\n",
    "            if i not in m:\n",
    "                all_in = False\n",
    "        if all_in == False:\n",
    "            score += 1\n",
    "        if all_in == True:\n",
    "            score += 3\n",
    "    return score"
   ]
  },
  {
   "cell_type": "code",
   "execution_count": 13,
   "metadata": {},
   "outputs": [],
   "source": [
    "def find_matches(allowed, required, dictionary):\n",
    "    allowed_list = list(allowed)\n",
    "    if required not in allowed_list:\n",
    "        allowed_list.append(required)\n",
    "    \n",
    "    match_words = []\n",
    "    \n",
    "    for w in dictionary:    \n",
    "        no_good = True\n",
    "        if required in w:\n",
    "            no_good = False\n",
    "            for z in w:\n",
    "                if z not in allowed_list:\n",
    "                    no_good = True\n",
    "        if no_good == False and len(w) > 4:\n",
    "            match_words.append(w)    \n",
    "    \n",
    "    score = score_matches(match_words, allowed_list)\n",
    "    return match_words, score"
   ]
  },
  {
   "cell_type": "code",
   "execution_count": 21,
   "metadata": {},
   "outputs": [],
   "source": [
    "required = 'u'\n",
    "allowed = 'iptnea'\n",
    "matches, score = find_matches(allowed, required, sb_list)\n",
    "%timeit"
   ]
  },
  {
   "cell_type": "code",
   "execution_count": 15,
   "metadata": {},
   "outputs": [
    {
     "data": {
      "text/plain": [
       "68"
      ]
     },
     "execution_count": 15,
     "metadata": {},
     "output_type": "execute_result"
    }
   ],
   "source": [
    "len(matches)"
   ]
  },
  {
   "cell_type": "code",
   "execution_count": 16,
   "metadata": {},
   "outputs": [
    {
     "data": {
      "text/plain": [
       "70"
      ]
     },
     "execution_count": 16,
     "metadata": {},
     "output_type": "execute_result"
    }
   ],
   "source": [
    "score"
   ]
  },
  {
   "cell_type": "code",
   "execution_count": 17,
   "metadata": {},
   "outputs": [
    {
     "data": {
      "text/plain": [
       "['annuitant',\n",
       " 'annuntiate',\n",
       " 'appui',\n",
       " 'attenuant',\n",
       " 'attenuate',\n",
       " 'attuent',\n",
       " 'attuite',\n",
       " 'attune',\n",
       " 'auntie',\n",
       " 'autunite',\n",
       " 'ennui',\n",
       " 'eupnea',\n",
       " 'input',\n",
       " 'intuit',\n",
       " 'nanua',\n",
       " 'naunt',\n",
       " 'nutant',\n",
       " 'nutate',\n",
       " 'pantun',\n",
       " 'paupiette',\n",
       " 'peanut',\n",
       " 'petunia',\n",
       " 'pinup',\n",
       " 'pituita',\n",
       " 'pituite',\n",
       " 'piupiu',\n",
       " 'punnet',\n",
       " 'puntee',\n",
       " 'pupae',\n",
       " 'pupate',\n",
       " 'puppet',\n",
       " 'puttee',\n",
       " 'putten',\n",
       " 'putti',\n",
       " 'puttie',\n",
       " 'taunt',\n",
       " 'taupata',\n",
       " 'taupe',\n",
       " 'taupie',\n",
       " 'tauten',\n",
       " 'tautit',\n",
       " 'tenue',\n",
       " 'tenuti',\n",
       " 'tipuna',\n",
       " 'tittup',\n",
       " 'titup',\n",
       " 'tuatua',\n",
       " 'tuina',\n",
       " 'tuneup',\n",
       " 'tupuna',\n",
       " 'tutania',\n",
       " 'tutee',\n",
       " 'tutti',\n",
       " 'uintaite',\n",
       " 'unapt',\n",
       " 'uneaten',\n",
       " 'uninitiate',\n",
       " 'unite',\n",
       " 'unpaint',\n",
       " 'unpen',\n",
       " 'unpent',\n",
       " 'unpin',\n",
       " 'untenant',\n",
       " 'untent',\n",
       " 'untie',\n",
       " 'untin',\n",
       " 'untune',\n",
       " 'uptie']"
      ]
     },
     "execution_count": 17,
     "metadata": {},
     "output_type": "execute_result"
    }
   ],
   "source": [
    "matches"
   ]
  },
  {
   "cell_type": "code",
   "execution_count": null,
   "metadata": {},
   "outputs": [],
   "source": []
  }
 ],
 "metadata": {
  "kernelspec": {
   "display_name": "Python 3",
   "language": "python",
   "name": "python3"
  },
  "language_info": {
   "codemirror_mode": {
    "name": "ipython",
    "version": 2
   },
   "file_extension": ".py",
   "mimetype": "text/x-python",
   "name": "python",
   "nbconvert_exporter": "python",
   "pygments_lexer": "ipython2",
   "version": "2.7.10"
  }
 },
 "nbformat": 4,
 "nbformat_minor": 1
}
